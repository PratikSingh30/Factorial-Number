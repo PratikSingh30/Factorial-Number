{
 "cells": [
  {
   "cell_type": "code",
   "execution_count": null,
   "id": "2db5d45b",
   "metadata": {},
   "outputs": [],
   "source": [
    "def factorial(n):\n",
    "    if n==0:\n",
    "        return 1\n",
    "    else:\n",
    "        return n*factorial(n-1)\n",
    "    \n",
    "def fact_loop(n):\n",
    "    fact=1\n",
    "    if n<0:\n",
    "        return \"Factorial does not exit for negative number\"\n",
    "    elif n==0:\n",
    "        return 1\n",
    "    else:\n",
    "        for i in range(1,n+1):\n",
    "            fact*=i\n",
    "        return fact\n",
    "num=int(input(\"Enter the number : \"))\n",
    "print(\"Factorial of \", num, \"using function is: \" , factorial(num))\n",
    "print(\"Factorial of \", num, \"using loop is :\" ,fact_loop(n)  )\n",
    "            "
   ]
  }
 ],
 "metadata": {
  "kernelspec": {
   "display_name": "Python 3 (ipykernel)",
   "language": "python",
   "name": "python3"
  },
  "language_info": {
   "codemirror_mode": {
    "name": "ipython",
    "version": 3
   },
   "file_extension": ".py",
   "mimetype": "text/x-python",
   "name": "python",
   "nbconvert_exporter": "python",
   "pygments_lexer": "ipython3",
   "version": "3.9.12"
  }
 },
 "nbformat": 4,
 "nbformat_minor": 5
}
